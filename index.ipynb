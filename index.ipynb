{
 "cells": [
  {
   "cell_type": "markdown",
   "metadata": {},
   "source": [
    "## Jupyter dashboards"
   ]
  },
  {
   "cell_type": "markdown",
   "metadata": {},
   "source": [
    "The Jupyter dashboards project was a solution for implementing dashboards with Jupyter. Unfortunately, it's not maintained any more and it's not supported by the recent versions of Jupyter notebook. The goal of this repo is to recreate the environment required to run the notebook.\n",
    "\n",
    "The source code for Jupyter dashboards and the notebooks presented here can be downloaded from the original [git repo](https://github.com/jupyter-attic/dashboards)."
   ]
  },
  {
   "cell_type": "markdown",
   "metadata": {},
   "source": [
    "Notebooks:\n",
    "\n",
    "* [Plotting demo](plotting_demo.ipynb)\n",
    "\n",
    "* [Got scotch demo](got_scotch_demo/got_scotch_demo.ipynb)"
   ]
  }
 ],
 "metadata": {
  "kernelspec": {
   "display_name": "Python 3",
   "language": "python",
   "name": "python3"
  },
  "language_info": {
   "codemirror_mode": {
    "name": "ipython",
    "version": 3
   },
   "file_extension": ".py",
   "mimetype": "text/x-python",
   "name": "python",
   "nbconvert_exporter": "python",
   "pygments_lexer": "ipython3",
   "version": "3.6.1"
  }
 },
 "nbformat": 4,
 "nbformat_minor": 2
}
